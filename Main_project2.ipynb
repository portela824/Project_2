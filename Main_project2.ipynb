{
 "cells": [
  {
   "cell_type": "code",
   "execution_count": 1,
   "metadata": {},
   "outputs": [],
   "source": [
    "import pandas as pd\n",
    "import os\n",
    "import matplotlib.pyplot as plt\n",
    "import seaborn as sns\n",
    "import numpy as np\n",
    "\n",
    "%matplotlib inline"
   ]
  },
  {
   "cell_type": "code",
   "execution_count": 18,
   "metadata": {},
   "outputs": [],
   "source": [
    "#upload raw data\n",
    "final_demo=pd.read_csv('../Project_2/data/raw/df_final_demo.txt')\n",
    "final_experiment_clients=pd.read_csv('../Project_2/data/raw/df_final_experiment_clients.txt')\n",
    "final_web_data_pt1=pd.read_csv('../Project_2/data/raw/df_final_web_data_pt_1.txt')\n",
    "final_web_data_pt2=pd.read_csv('../Project_2/data/raw/df_final_web_data_pt_2.txt')"
   ]
  },
  {
   "cell_type": "markdown",
   "metadata": {},
   "source": [
    "# Context & Data Overview\n",
    "As a newly employed data analyst in Vanguard's Customer Experience (CX) team, your initial task plunges you into analyzing the outcomes of a recently launched digital experiment. The team is eagerly anticipating the results, and your expertise is sought to unravel the insights.\n",
    "\n",
    "# Dataset\n",
    "\n",
    "1. **Client Profiles (df_final_demo):**\n",
    "    - **client_id**: Unique identifier for clients (int)\n",
    "    - **clnt_tenure_yr**: Clients yearly with Vanguard (int)\n",
    "    - **clnt_tenure_mnth**: Clients months with vanguard (int)\n",
    "    - **clnt_age**: Age of the client (float)\n",
    "    - **gendr**: Client's gender (int)\n",
    "    - **num_accts**: Number of accounts held by the client (int)\n",
    "    - **Bal**: Total balance across all client accounts (float)\n",
    "    - **call_6_mnth**: Number of client calls in the past six months (int)\n",
    "    - **logons_6_mnth**: Frequency of client logins to Vanguard's platform in the past six months (int)\n",
    "\n",
    "2. **Digital Footprints (df_final_web_data):**\n",
    "    - **client_id**: Unique identifier for clients (int)\n",
    "    - **visitor_id**: Unique ID for each client-device combination (str)\n",
    "    - **visit_id**: Unique ID for each web visit/session (str)\n",
    "    - **process_step**: Marks each step in the digital process (str)\n",
    "\n",
    "3. **Experiment Roster (df_final_experiment_clients):**\n",
    "    - **client_id**: Unique identifier for clients (int)\n",
    "    - **Variation**: Indicates if the client was part of the control or test group (str)\n",
    "        - Control group: Clients interacted with Vanguard's traditional online process.\n",
    "        - Test group: Clients experienced the new, updated digital interface.\n",
    "\n",
    "# Hypothesis:\n",
    "Vanguard's hypothesis suggests that e and contemporary User Interface (UI), complemented by timely in-context prompts, could enhance the online process for clients.\n",
    "\n",
    "# Question:\n",
    "Will these changes incentivize to complete the process?"
   ]
  },
  {
   "cell_type": "markdown",
   "metadata": {},
   "source": [
    "# Cleaning"
   ]
  },
  {
   "cell_type": "code",
   "execution_count": 28,
   "metadata": {},
   "outputs": [],
   "source": [
    "# Client Profiles\n",
    "\n",
    "final_demo.dropna(thresh=7,inplace=True)\n",
    "# drop if client age is < of client tenure, due to lack of sense and that they  than 1% of the dataset\n",
    "final_demo=final_demo[final_demo['clnt_age']>=final_demo['clnt_tenure_yr']]\n",
    "#replace X by U. We assume that X was a miss tipping and should be U.\n",
    "final_demo['gendr']=final_demo['gendr'].str.replace('X','U')\n",
    "\n",
    "# Digital Footprints\n",
    "\n",
    "final_web_data_final= pd.concat([final_web_data_pt1,final_web_data_pt2])\n",
    "final_web_data_final.drop_duplicates(inplace=True)\n"
   ]
  },
  {
   "cell_type": "markdown",
   "metadata": {},
   "source": [
    "# Annotation"
   ]
  },
  {
   "cell_type": "code",
   "execution_count": 51,
   "metadata": {},
   "outputs": [
    {
     "data": {
      "text/plain": [
       "num_accts\n",
       "2.0    55072\n",
       "3.0    12405\n",
       "4.0     2217\n",
       "5.0      282\n",
       "6.0       33\n",
       "7.0        8\n",
       "1.0        2\n",
       "8.0        1\n",
       "Name: count, dtype: int64"
      ]
     },
     "execution_count": 51,
     "metadata": {},
     "output_type": "execute_result"
    }
   ],
   "source": [
    "final_demo['num_accts'].value_counts() # does it make sense to have 8, 7 6 accounts ? --> check outlier probably"
   ]
  },
  {
   "cell_type": "code",
   "execution_count": 50,
   "metadata": {},
   "outputs": [
    {
     "data": {
      "text/plain": [
       "logons_6_mnth\n",
       "9.0    12282\n",
       "3.0    10150\n",
       "4.0    10130\n",
       "7.0     9800\n",
       "5.0     9180\n",
       "6.0     7824\n",
       "8.0     4774\n",
       "2.0     2978\n",
       "1.0     2902\n",
       "Name: count, dtype: int64"
      ]
     },
     "execution_count": 50,
     "metadata": {},
     "output_type": "execute_result"
    }
   ],
   "source": [
    "final_demo['logons_6_mnth'].value_counts() # why not 0."
   ]
  },
  {
   "cell_type": "markdown",
   "metadata": {},
   "source": [
    "## Bal - comprehension"
   ]
  },
  {
   "cell_type": "code",
   "execution_count": 10,
   "metadata": {},
   "outputs": [
    {
     "name": "stdout",
     "output_type": "stream",
     "text": [
      "average 79811.77,median 43404.634999999995, mode   13857.129999999996\n"
     ]
    }
   ],
   "source": [
    "print(f\"average {final_demo['bal'].mean().__round__(2)},median {final_demo['bal'].median()}, mode   {final_demo['bal'].mode()[0]}\")"
   ]
  },
  {
   "cell_type": "code",
   "execution_count": 11,
   "metadata": {},
   "outputs": [
    {
     "name": "stdout",
     "output_type": "stream",
     "text": [
      "var   12969680351.851475\n",
      "std   113884.50444134827\n",
      "range   1070209.59\n",
      "q25   0.25     29734.1550\n",
      "0.50     43404.6350\n",
      "0.75     77066.4175\n",
      "0.85    125353.3605\n",
      "Name: bal, dtype: float64\n"
     ]
    }
   ],
   "source": [
    "# 2 - Measures of Dispersion:\n",
    "print(f\"var   {final_demo['bal'].var()}\")\n",
    "print(f\"std   {final_demo['bal'].std()}\")\n",
    "print(f\"range   {(final_demo['bal'].max()-final_demo['bal'].min())}\")\n",
    "print(f\"q25   {final_demo['bal'].quantile([0.25, 0.5, 0.75,.85])}\")"
   ]
  },
  {
   "cell_type": "code",
   "execution_count": 45,
   "metadata": {},
   "outputs": [
    {
     "data": {
      "text/plain": [
       "11.138764704917897"
      ]
     },
     "execution_count": 45,
     "metadata": {},
     "output_type": "execute_result"
    }
   ],
   "source": [
    "final_demo['bal'].skew()"
   ]
  },
  {
   "cell_type": "code",
   "execution_count": 47,
   "metadata": {},
   "outputs": [
    {
     "data": {
      "text/plain": [
       "276.7268035905861"
      ]
     },
     "execution_count": 47,
     "metadata": {},
     "output_type": "execute_result"
    }
   ],
   "source": [
    "final_demo['bal'].kurt()"
   ]
  },
  {
   "cell_type": "code",
   "execution_count": 44,
   "metadata": {},
   "outputs": [
    {
     "data": {
      "text/plain": [
       "<Axes: >"
      ]
     },
     "execution_count": 44,
     "metadata": {},
     "output_type": "execute_result"
    },
    {
     "data": {
      "image/png": "[encoded data removed]",
      "text/plain": [
       "<Figure size 640x480 with 1 Axes>"
      ]
     },
     "metadata": {},
     "output_type": "display_data"
    }
   ],
   "source": [
    "final_demo.query('bal<130000')['bal'].hist(bins=1000)"
   ]
  },
  {
   "cell_type": "code",
   "execution_count": 13,
   "metadata": {},
   "outputs": [
    {
     "data": {
      "text/plain": [
       "array([26.5, 28. , 26. , 18.5, 17.5, 25.5, 20.5, 20. , 22.5, 19. , 27. ,\n",
       "       24.5, 21.5, 24. , 45.5, 25. , 19.5, 22. , 23. , 27.5, 36.5, 33.5,\n",
       "       29.5, 29. , 23.5, 18. , 28.5, 45. , 21. , 48.5, 42. , 17. , 33. ,\n",
       "       32. , 42.5, 31.5, 39. , 35. , 43. , 30.5, 31. , 52.5, 14.5, 15. ,\n",
       "       16. , 16.5, 46. , 15.5, 14. , 32.5, 38.5, 40. , 51. , 37.5, 44.5])"
      ]
     },
     "execution_count": 13,
     "metadata": {},
     "output_type": "execute_result"
    }
   ],
   "source": [
    "final_demo['clnt_age'].unique()"
   ]
  },
  {
   "cell_type": "code",
   "execution_count": 14,
   "metadata": {},
   "outputs": [
    {
     "data": {
      "text/html": [
       "<div>\n",
       "<style scoped>\n",
       "    .dataframe tbody tr th:only-of-type {\n",
       "        vertical-align: middle;\n",
       "    }\n",
       "\n",
       "    .dataframe tbody tr th {\n",
       "        vertical-align: top;\n",
       "    }\n",
       "\n",
       "    .dataframe thead th {\n",
       "        text-align: right;\n",
       "    }\n",
       "</style>\n",
       "<table border=\"1\" class=\"dataframe\">\n",
       "  <thead>\n",
       "    <tr style=\"text-align: right;\">\n",
       "      <th></th>\n",
       "      <th>client_id</th>\n",
       "      <th>clnt_tenure_yr</th>\n",
       "      <th>clnt_tenure_mnth</th>\n",
       "      <th>clnt_age</th>\n",
       "      <th>gendr</th>\n",
       "      <th>num_accts</th>\n",
       "      <th>bal</th>\n",
       "      <th>calls_6_mnth</th>\n",
       "      <th>logons_6_mnth</th>\n",
       "    </tr>\n",
       "  </thead>\n",
       "  <tbody>\n",
       "  </tbody>\n",
       "</table>\n",
       "</div>"
      ],
      "text/plain": [
       "Empty DataFrame\n",
       "Columns: [client_id, clnt_tenure_yr, clnt_tenure_mnth, clnt_age, gendr, num_accts, bal, calls_6_mnth, logons_6_mnth]\n",
       "Index: []"
      ]
     },
     "execution_count": 14,
     "metadata": {},
     "output_type": "execute_result"
    }
   ],
   "source": [
    "final_demo[final_demo['clnt_age'].isna()]"
   ]
  },
  {
   "cell_type": "markdown",
   "metadata": {},
   "source": [
    "# Question demographics\n",
    "\n",
    "- **primary clients**:\n",
    "    1. who is using this online process?\n",
    "    \n",
    "    It seems that all the client up to a certain degree are using the online process as all they all had login at least once in the last 6 months. \n",
    "    \n",
    "    2. arethe primary clients younger or older, new or long-standing?\n",
    "\n",
    "   The primary client is an individual, either a man or a woman, who holds more than two open accounts with a balance of $148K. They are between 21 and 70 years old and have maintained an account for a duration spanning 6 to 25 years.\n",
    "\n"
   ]
  },
  {
   "cell_type": "code",
   "execution_count": 73,
   "metadata": {},
   "outputs": [
    {
     "data": {
      "text/plain": [
       "2.2550842616395315"
      ]
     },
     "execution_count": 73,
     "metadata": {},
     "output_type": "execute_result"
    }
   ],
   "source": [
    "# account\n",
    "final_demo['num_accts'].mean()"
   ]
  },
  {
   "cell_type": "code",
   "execution_count": 74,
   "metadata": {},
   "outputs": [
    {
     "data": {
      "text/plain": [
       "148004.15420322763"
      ]
     },
     "execution_count": 74,
     "metadata": {},
     "output_type": "execute_result"
    }
   ],
   "source": [
    "final_demo['bal'].mean()"
   ]
  },
  {
   "cell_type": "code",
   "execution_count": 57,
   "metadata": {},
   "outputs": [
    {
     "data": {
      "text/plain": [
       "gendr\n",
       "U    34.0\n",
       "M    33.0\n",
       "F    32.0\n",
       "Name: proportion, dtype: float64"
      ]
     },
     "execution_count": 57,
     "metadata": {},
     "output_type": "execute_result"
    }
   ],
   "source": [
    "#gendr\n",
    "final_demo['gendr'].value_counts(normalize='index').round(2)*100"
   ]
  },
  {
   "cell_type": "markdown",
   "metadata": {},
   "source": [
    "It seems that there is an equal amount of female and men."
   ]
  },
  {
   "cell_type": "code",
   "execution_count": 64,
   "metadata": {},
   "outputs": [
    {
     "data": {
      "text/plain": [
       "clnt_age\n",
       "51-60    22.0\n",
       "41-50    18.0\n",
       "21-30    18.0\n",
       "31-40    18.0\n",
       "61-70    16.0\n",
       "71+       5.0\n",
       "0-20      2.0\n",
       "Name: proportion, dtype: float64"
      ]
     },
     "execution_count": 64,
     "metadata": {},
     "output_type": "execute_result"
    }
   ],
   "source": [
    "#age\n",
    "pd.cut(final_demo['clnt_age'],\n",
    "       bins=[0, 21, 31, 41, 51, 61, 71, float('inf')],\n",
    "       labels=['0-20', '21-30', '31-40', '41-50', '51-60', '61-70', '71+'],\n",
    "       right=False).value_counts(normalize='index').sort_values(ascending=False).round(2)*100"
   ]
  },
  {
   "cell_type": "code",
   "execution_count": 70,
   "metadata": {},
   "outputs": [
    {
     "data": {
      "text/plain": [
       "<Axes: xlabel='clnt_age', ylabel='Count'>"
      ]
     },
     "execution_count": 70,
     "metadata": {},
     "output_type": "execute_result"
    },
    {
     "data": {
      "image/png": "[encoded data removed]",
      "text/plain": [
       "<Figure size 640x480 with 1 Axes>"
      ]
     },
     "metadata": {},
     "output_type": "display_data"
    }
   ],
   "source": [
    "sns.histplot(data=final_demo['clnt_age'],bins=20,kde=True)"
   ]
  },
  {
   "cell_type": "markdown",
   "metadata": {},
   "source": [
    "primary age of the client is between 21 and 70 years old"
   ]
  },
  {
   "cell_type": "code",
   "execution_count": 71,
   "metadata": {},
   "outputs": [
    {
     "data": {
      "text/plain": [
       "clnt_tenure_yr\n",
       "6-10     38.0\n",
       "11-15    24.0\n",
       "16-20    16.0\n",
       "21-25    10.0\n",
       "3-5       7.0\n",
       "26+       5.0\n",
       "0-2       0.0\n",
       "Name: proportion, dtype: float64"
      ]
     },
     "execution_count": 71,
     "metadata": {},
     "output_type": "execute_result"
    }
   ],
   "source": [
    "# Oldness\n",
    "pd.cut(final_demo['clnt_tenure_yr'],\n",
    "       bins=[0,2,5,10,15,20,25, float('inf')],\n",
    "       labels=['0-2', '3-5', '6-10', '11-15', '16-20', '21-25', '26+'],\n",
    "       right=False).value_counts(normalize='index').sort_values(ascending=False).round(2)*100\n"
   ]
  },
  {
   "cell_type": "code",
   "execution_count": 72,
   "metadata": {},
   "outputs": [
    {
     "data": {
      "text/plain": [
       "<Axes: xlabel='clnt_tenure_yr', ylabel='Count'>"
      ]
     },
     "execution_count": 72,
     "metadata": {},
     "output_type": "execute_result"
    },
    {
     "data": {
      "image/png": "[encoded data removed]",
      "text/plain": [
       "<Figure size 640x480 with 1 Axes>"
      ]
     },
     "metadata": {},
     "output_type": "display_data"
    }
   ],
   "source": [
    "sns.histplot(data=final_demo['clnt_tenure_yr'],bins=20,kde=True)"
   ]
  },
  {
   "cell_type": "markdown",
   "metadata": {},
   "source": [
    "Primary the clients has a ternure between 6 and 25 years."
   ]
  }
 ],
 "metadata": {
  "kernelspec": {
   "display_name": "base",
   "language": "python",
   "name": "python3"
  },
  "language_info": {
   "codemirror_mode": {
    "name": "ipython",
    "version": 3
   },
   "file_extension": ".py",
   "mimetype": "text/x-python",
   "name": "python",
   "nbconvert_exporter": "python",
   "pygments_lexer": "ipython3",
   "version": "3.11.5"
  }
 },
 "nbformat": 4,
 "nbformat_minor": 2
}
