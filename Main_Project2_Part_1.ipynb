{
 "cells": [
  {
   "cell_type": "code",
   "execution_count": 1,
   "metadata": {},
   "outputs": [],
   "source": [
    "import pandas as pd\n",
    "import os\n",
    "import matplotlib.pyplot as plt\n",
    "import seaborn as sns\n",
    "import numpy as np\n",
    "\n",
    "%matplotlib inline"
   ]
  },
  {
   "cell_type": "code",
   "execution_count": 2,
   "metadata": {},
   "outputs": [],
   "source": [
    "#upload raw data\n",
    "final_demo=pd.read_csv('../Project_2/data/raw/df_final_demo.txt')\n",
    "final_experiment_clients=pd.read_csv('../Project_2/data/raw/df_final_experiment_clients.txt')\n",
    "final_web_data_pt1=pd.read_csv('../Project_2/data/raw/df_final_web_data_pt_1.txt')\n",
    "final_web_data_pt2=pd.read_csv('../Project_2/data/raw/df_final_web_data_pt_2.txt')"
   ]
  },
  {
   "cell_type": "markdown",
   "metadata": {},
   "source": [
    "# Context & Data Overview\n",
    "As a newly employed data analyst in Vanguard's Customer Experience (CX) team, your initial task plunges you into analyzing the outcomes of a recently launched digital experiment. The team is eagerly anticipating the results, and your expertise is sought to unravel the insights.\n",
    "\n",
    "# Dataset\n",
    "\n",
    "1. **Client Profiles (df_final_demo):**\n",
    "    - **client_id**: Unique identifier for clients (int)\n",
    "    - **clnt_tenure_yr**: Clients yearly with Vanguard (int)\n",
    "    - **clnt_tenure_mnth**: Clients months with vanguard (int)\n",
    "    - **clnt_age**: Age of the client (float)\n",
    "    - **gendr**: Client's gender (int)\n",
    "    - **num_accts**: Number of accounts held by the client (int)\n",
    "    - **Bal**: Total balance across all client accounts (float)\n",
    "    - **call_6_mnth**: Number of client calls in the past six months (int)\n",
    "    - **logons_6_mnth**: Frequency of client logins to Vanguard's platform in the past six months (int)\n",
    "\n",
    "2. **Digital Footprints (df_final_web_data):**\n",
    "    - **client_id**: Unique identifier for clients (int)\n",
    "    - **visitor_id**: Unique ID for each client-device combination (str)\n",
    "    - **visit_id**: Unique ID for each web visit/session (str)\n",
    "    - **process_step**: Marks each step in the digital process (str)\n",
    "\n",
    "3. **Experiment Roster (df_final_experiment_clients):**\n",
    "    - **client_id**: Unique identifier for clients (int)\n",
    "    - **Variation**: Indicates if the client was part of the control or test group (str)\n",
    "        - Control group: Clients interacted with Vanguard's traditional online process.\n",
    "        - Test group: Clients experienced the new, updated digital interface.\n",
    "\n",
    "# Hypothesis:\n",
    "Vanguard's hypothesis suggests that e and contemporary User Interface (UI), complemented by timely in-context prompts, could enhance the online process for clients.\n",
    "\n",
    "# Question:\n",
    "Will these changes incentivize to complete the process?"
   ]
  },
  {
   "cell_type": "markdown",
   "metadata": {},
   "source": [
    "# Cleaning"
   ]
  },
  {
   "cell_type": "code",
   "execution_count": 3,
   "metadata": {},
   "outputs": [],
   "source": [
    "# Client Profiles\n",
    "\n",
    "final_demo.dropna(thresh=7,inplace=True)\n",
    "# drop if client age is < of client tenure, due to lack of sense and that they  than 1% of the dataset\n",
    "final_demo=final_demo[final_demo['clnt_age']>=final_demo['clnt_tenure_yr']]\n",
    "#replace X by U. We assume that X was a miss tipping and should be U.\n",
    "final_demo['gendr']=final_demo['gendr'].str.replace('X','U')\n",
    "\n",
    "# Digital Footprints\n",
    "\n",
    "final_web_data_final= pd.concat([final_web_data_pt1,final_web_data_pt2])\n",
    "final_web_data_final.drop_duplicates(inplace=True)\n"
   ]
  },
  {
   "cell_type": "markdown",
   "metadata": {},
   "source": [
    "# Annotation"
   ]
  },
  {
   "cell_type": "code",
   "execution_count": 51,
   "metadata": {},
   "outputs": [
    {
     "data": {
      "text/plain": [
       "num_accts\n",
       "2.0    55072\n",
       "3.0    12405\n",
       "4.0     2217\n",
       "5.0      282\n",
       "6.0       33\n",
       "7.0        8\n",
       "1.0        2\n",
       "8.0        1\n",
       "Name: count, dtype: int64"
      ]
     },
     "execution_count": 51,
     "metadata": {},
     "output_type": "execute_result"
    }
   ],
   "source": [
    "final_demo['num_accts'].value_counts() # does it make sense to have 8, 7 6 accounts ? --> check outlier probably"
   ]
  },
  {
   "cell_type": "code",
   "execution_count": 50,
   "metadata": {},
   "outputs": [
    {
     "data": {
      "text/plain": [
       "logons_6_mnth\n",
       "9.0    12282\n",
       "3.0    10150\n",
       "4.0    10130\n",
       "7.0     9800\n",
       "5.0     9180\n",
       "6.0     7824\n",
       "8.0     4774\n",
       "2.0     2978\n",
       "1.0     2902\n",
       "Name: count, dtype: int64"
      ]
     },
     "execution_count": 50,
     "metadata": {},
     "output_type": "execute_result"
    }
   ],
   "source": [
    "final_demo['logons_6_mnth'].value_counts() # why not 0."
   ]
  },
  {
   "cell_type": "markdown",
   "metadata": {},
   "source": [
    "## Bal - comprehension"
   ]
  },
  {
   "cell_type": "code",
   "execution_count": 10,
   "metadata": {},
   "outputs": [
    {
     "name": "stdout",
     "output_type": "stream",
     "text": [
      "average 79811.77,median 43404.634999999995, mode   13857.129999999996\n"
     ]
    }
   ],
   "source": [
    "print(f\"average {final_demo['bal'].mean().__round__(2)},median {final_demo['bal'].median()}, mode   {final_demo['bal'].mode()[0]}\")"
   ]
  },
  {
   "cell_type": "code",
   "execution_count": 3,
   "metadata": {},
   "outputs": [
    {
     "name": "stdout",
     "output_type": "stream",
     "text": [
      "var   90907500113.93842\n",
      "std   301508.70653090335\n",
      "range   16306250.73\n",
      "q25   0.25     37346.835\n",
      "0.50     63332.900\n",
      "0.75    137544.905\n",
      "0.95    524823.663\n",
      "Name: bal, dtype: float64\n"
     ]
    }
   ],
   "source": [
    "# 2 - Measures of Dispersion:\n",
    "print(f\"var   {final_demo['bal'].var()}\")\n",
    "print(f\"std   {final_demo['bal'].std()}\")\n",
    "print(f\"range   {(final_demo['bal'].max()-final_demo['bal'].min())}\")\n",
    "print(f\"q25   {final_demo['bal'].quantile([0.25, 0.5, 0.75,.95])}\")"
   ]
  },
  {
   "cell_type": "code",
   "execution_count": 45,
   "metadata": {},
   "outputs": [
    {
     "data": {
      "text/plain": [
       "11.138764704917897"
      ]
     },
     "execution_count": 45,
     "metadata": {},
     "output_type": "execute_result"
    }
   ],
   "source": [
    "final_demo['bal'].skew()"
   ]
  },
  {
   "cell_type": "code",
   "execution_count": 47,
   "metadata": {},
   "outputs": [
    {
     "data": {
      "text/plain": [
       "276.7268035905861"
      ]
     },
     "execution_count": 47,
     "metadata": {},
     "output_type": "execute_result"
    }
   ],
   "source": [
    "final_demo['bal'].kurt()"
   ]
  },
  {
   "cell_type": "code",
   "execution_count": 4,
   "metadata": {},
   "outputs": [
    {
     "data": {
      "text/plain": [
       "<Axes: >"
      ]
     },
     "execution_count": 4,
     "metadata": {},
     "output_type": "execute_result"
    },
    {
     "data": {
      "image/png": "[encoded data removed]",
      "text/plain": [
       "<Figure size 640x480 with 1 Axes>"
      ]
     },
     "metadata": {},
     "output_type": "display_data"
    }
   ],
   "source": [
    "final_demo.query('bal<130000')['bal'].hist(bins=100)"
   ]
  },
  {
   "cell_type": "code",
   "execution_count": 28,
   "metadata": {},
   "outputs": [
    {
     "data": {
      "text/plain": [
       "<Axes: >"
      ]
     },
     "execution_count": 28,
     "metadata": {},
     "output_type": "execute_result"
    },
    {
     "data": {
      "image/png": "[encoded data removed]",
      "text/plain": [
       "<Figure size 640x480 with 1 Axes>"
      ]
     },
     "metadata": {},
     "output_type": "display_data"
    }
   ],
   "source": [
    "final_demo[(final_demo['bal']>=1000000)&(final_demo['bal']<2000000)]['bal'].hist(bins=10)"
   ]
  },
  {
   "cell_type": "code",
   "execution_count": 24,
   "metadata": {},
   "outputs": [
    {
     "data": {
      "text/html": [
       "<div>\n",
       "<style scoped>\n",
       "    .dataframe tbody tr th:only-of-type {\n",
       "        vertical-align: middle;\n",
       "    }\n",
       "\n",
       "    .dataframe tbody tr th {\n",
       "        vertical-align: top;\n",
       "    }\n",
       "\n",
       "    .dataframe thead th {\n",
       "        text-align: right;\n",
       "    }\n",
       "</style>\n",
       "<table border=\"1\" class=\"dataframe\">\n",
       "  <thead>\n",
       "    <tr style=\"text-align: right;\">\n",
       "      <th></th>\n",
       "      <th>client_id</th>\n",
       "      <th>clnt_tenure_yr</th>\n",
       "      <th>clnt_tenure_mnth</th>\n",
       "      <th>clnt_age</th>\n",
       "      <th>gendr</th>\n",
       "      <th>num_accts</th>\n",
       "      <th>bal</th>\n",
       "      <th>calls_6_mnth</th>\n",
       "      <th>logons_6_mnth</th>\n",
       "    </tr>\n",
       "  </thead>\n",
       "  <tbody>\n",
       "    <tr>\n",
       "      <th>2171</th>\n",
       "      <td>2291985</td>\n",
       "      <td>7.0</td>\n",
       "      <td>85.0</td>\n",
       "      <td>41.0</td>\n",
       "      <td>M</td>\n",
       "      <td>2.0</td>\n",
       "      <td>8247729.97</td>\n",
       "      <td>1.0</td>\n",
       "      <td>4.0</td>\n",
       "    </tr>\n",
       "    <tr>\n",
       "      <th>13318</th>\n",
       "      <td>9440656</td>\n",
       "      <td>7.0</td>\n",
       "      <td>94.0</td>\n",
       "      <td>63.0</td>\n",
       "      <td>F</td>\n",
       "      <td>2.0</td>\n",
       "      <td>8292996.21</td>\n",
       "      <td>6.0</td>\n",
       "      <td>9.0</td>\n",
       "    </tr>\n",
       "    <tr>\n",
       "      <th>14057</th>\n",
       "      <td>3519657</td>\n",
       "      <td>18.0</td>\n",
       "      <td>218.0</td>\n",
       "      <td>66.5</td>\n",
       "      <td>M</td>\n",
       "      <td>6.0</td>\n",
       "      <td>7741994.01</td>\n",
       "      <td>6.0</td>\n",
       "      <td>9.0</td>\n",
       "    </tr>\n",
       "    <tr>\n",
       "      <th>14425</th>\n",
       "      <td>8700059</td>\n",
       "      <td>11.0</td>\n",
       "      <td>132.0</td>\n",
       "      <td>65.0</td>\n",
       "      <td>M</td>\n",
       "      <td>2.0</td>\n",
       "      <td>5439354.90</td>\n",
       "      <td>3.0</td>\n",
       "      <td>6.0</td>\n",
       "    </tr>\n",
       "    <tr>\n",
       "      <th>20844</th>\n",
       "      <td>6765532</td>\n",
       "      <td>28.0</td>\n",
       "      <td>336.0</td>\n",
       "      <td>56.0</td>\n",
       "      <td>M</td>\n",
       "      <td>3.0</td>\n",
       "      <td>5187970.13</td>\n",
       "      <td>5.0</td>\n",
       "      <td>8.0</td>\n",
       "    </tr>\n",
       "    <tr>\n",
       "      <th>20871</th>\n",
       "      <td>1678193</td>\n",
       "      <td>24.0</td>\n",
       "      <td>299.0</td>\n",
       "      <td>65.5</td>\n",
       "      <td>M</td>\n",
       "      <td>3.0</td>\n",
       "      <td>8137343.24</td>\n",
       "      <td>6.0</td>\n",
       "      <td>9.0</td>\n",
       "    </tr>\n",
       "    <tr>\n",
       "      <th>21184</th>\n",
       "      <td>987970</td>\n",
       "      <td>14.0</td>\n",
       "      <td>179.0</td>\n",
       "      <td>74.5</td>\n",
       "      <td>M</td>\n",
       "      <td>3.0</td>\n",
       "      <td>7339443.17</td>\n",
       "      <td>4.0</td>\n",
       "      <td>9.0</td>\n",
       "    </tr>\n",
       "    <tr>\n",
       "      <th>22943</th>\n",
       "      <td>9290030</td>\n",
       "      <td>28.0</td>\n",
       "      <td>341.0</td>\n",
       "      <td>67.5</td>\n",
       "      <td>M</td>\n",
       "      <td>4.0</td>\n",
       "      <td>6353000.43</td>\n",
       "      <td>5.0</td>\n",
       "      <td>8.0</td>\n",
       "    </tr>\n",
       "    <tr>\n",
       "      <th>23849</th>\n",
       "      <td>7070097</td>\n",
       "      <td>11.0</td>\n",
       "      <td>133.0</td>\n",
       "      <td>53.0</td>\n",
       "      <td>M</td>\n",
       "      <td>2.0</td>\n",
       "      <td>8986419.77</td>\n",
       "      <td>6.0</td>\n",
       "      <td>9.0</td>\n",
       "    </tr>\n",
       "    <tr>\n",
       "      <th>25162</th>\n",
       "      <td>8841326</td>\n",
       "      <td>32.0</td>\n",
       "      <td>391.0</td>\n",
       "      <td>60.5</td>\n",
       "      <td>F</td>\n",
       "      <td>2.0</td>\n",
       "      <td>5085307.11</td>\n",
       "      <td>6.0</td>\n",
       "      <td>9.0</td>\n",
       "    </tr>\n",
       "    <tr>\n",
       "      <th>31811</th>\n",
       "      <td>6762377</td>\n",
       "      <td>16.0</td>\n",
       "      <td>193.0</td>\n",
       "      <td>41.5</td>\n",
       "      <td>F</td>\n",
       "      <td>3.0</td>\n",
       "      <td>8045102.60</td>\n",
       "      <td>6.0</td>\n",
       "      <td>9.0</td>\n",
       "    </tr>\n",
       "    <tr>\n",
       "      <th>33222</th>\n",
       "      <td>857273</td>\n",
       "      <td>31.0</td>\n",
       "      <td>376.0</td>\n",
       "      <td>56.5</td>\n",
       "      <td>M</td>\n",
       "      <td>5.0</td>\n",
       "      <td>6716305.28</td>\n",
       "      <td>6.0</td>\n",
       "      <td>9.0</td>\n",
       "    </tr>\n",
       "    <tr>\n",
       "      <th>36379</th>\n",
       "      <td>3545814</td>\n",
       "      <td>13.0</td>\n",
       "      <td>163.0</td>\n",
       "      <td>59.0</td>\n",
       "      <td>M</td>\n",
       "      <td>3.0</td>\n",
       "      <td>5754204.68</td>\n",
       "      <td>6.0</td>\n",
       "      <td>9.0</td>\n",
       "    </tr>\n",
       "    <tr>\n",
       "      <th>39367</th>\n",
       "      <td>9286288</td>\n",
       "      <td>21.0</td>\n",
       "      <td>254.0</td>\n",
       "      <td>62.5</td>\n",
       "      <td>M</td>\n",
       "      <td>3.0</td>\n",
       "      <td>16320040.15</td>\n",
       "      <td>6.0</td>\n",
       "      <td>9.0</td>\n",
       "    </tr>\n",
       "    <tr>\n",
       "      <th>40615</th>\n",
       "      <td>2243576</td>\n",
       "      <td>11.0</td>\n",
       "      <td>136.0</td>\n",
       "      <td>62.0</td>\n",
       "      <td>M</td>\n",
       "      <td>2.0</td>\n",
       "      <td>5544842.49</td>\n",
       "      <td>6.0</td>\n",
       "      <td>9.0</td>\n",
       "    </tr>\n",
       "    <tr>\n",
       "      <th>47090</th>\n",
       "      <td>5799151</td>\n",
       "      <td>21.0</td>\n",
       "      <td>254.0</td>\n",
       "      <td>56.0</td>\n",
       "      <td>M</td>\n",
       "      <td>3.0</td>\n",
       "      <td>5137641.69</td>\n",
       "      <td>6.0</td>\n",
       "      <td>9.0</td>\n",
       "    </tr>\n",
       "    <tr>\n",
       "      <th>49388</th>\n",
       "      <td>5735570</td>\n",
       "      <td>37.0</td>\n",
       "      <td>451.0</td>\n",
       "      <td>73.0</td>\n",
       "      <td>M</td>\n",
       "      <td>3.0</td>\n",
       "      <td>6000386.82</td>\n",
       "      <td>6.0</td>\n",
       "      <td>9.0</td>\n",
       "    </tr>\n",
       "    <tr>\n",
       "      <th>58723</th>\n",
       "      <td>3559689</td>\n",
       "      <td>29.0</td>\n",
       "      <td>352.0</td>\n",
       "      <td>73.5</td>\n",
       "      <td>M</td>\n",
       "      <td>4.0</td>\n",
       "      <td>6387060.94</td>\n",
       "      <td>5.0</td>\n",
       "      <td>5.0</td>\n",
       "    </tr>\n",
       "    <tr>\n",
       "      <th>63746</th>\n",
       "      <td>8339240</td>\n",
       "      <td>6.0</td>\n",
       "      <td>80.0</td>\n",
       "      <td>26.5</td>\n",
       "      <td>M</td>\n",
       "      <td>2.0</td>\n",
       "      <td>12838418.01</td>\n",
       "      <td>3.0</td>\n",
       "      <td>3.0</td>\n",
       "    </tr>\n",
       "    <tr>\n",
       "      <th>63781</th>\n",
       "      <td>8056743</td>\n",
       "      <td>13.0</td>\n",
       "      <td>160.0</td>\n",
       "      <td>63.0</td>\n",
       "      <td>M</td>\n",
       "      <td>3.0</td>\n",
       "      <td>5745578.16</td>\n",
       "      <td>7.0</td>\n",
       "      <td>7.0</td>\n",
       "    </tr>\n",
       "    <tr>\n",
       "      <th>68384</th>\n",
       "      <td>5939963</td>\n",
       "      <td>24.0</td>\n",
       "      <td>289.0</td>\n",
       "      <td>62.5</td>\n",
       "      <td>M</td>\n",
       "      <td>3.0</td>\n",
       "      <td>6628686.47</td>\n",
       "      <td>5.0</td>\n",
       "      <td>5.0</td>\n",
       "    </tr>\n",
       "    <tr>\n",
       "      <th>69666</th>\n",
       "      <td>7959723</td>\n",
       "      <td>21.0</td>\n",
       "      <td>261.0</td>\n",
       "      <td>56.5</td>\n",
       "      <td>M</td>\n",
       "      <td>3.0</td>\n",
       "      <td>6566425.13</td>\n",
       "      <td>7.0</td>\n",
       "      <td>7.0</td>\n",
       "    </tr>\n",
       "  </tbody>\n",
       "</table>\n",
       "</div>"
      ],
      "text/plain": [
       "       client_id  clnt_tenure_yr  clnt_tenure_mnth  clnt_age gendr  num_accts  \\\n",
       "2171     2291985             7.0              85.0      41.0     M        2.0   \n",
       "13318    9440656             7.0              94.0      63.0     F        2.0   \n",
       "14057    3519657            18.0             218.0      66.5     M        6.0   \n",
       "14425    8700059            11.0             132.0      65.0     M        2.0   \n",
       "20844    6765532            28.0             336.0      56.0     M        3.0   \n",
       "20871    1678193            24.0             299.0      65.5     M        3.0   \n",
       "21184     987970            14.0             179.0      74.5     M        3.0   \n",
       "22943    9290030            28.0             341.0      67.5     M        4.0   \n",
       "23849    7070097            11.0             133.0      53.0     M        2.0   \n",
       "25162    8841326            32.0             391.0      60.5     F        2.0   \n",
       "31811    6762377            16.0             193.0      41.5     F        3.0   \n",
       "33222     857273            31.0             376.0      56.5     M        5.0   \n",
       "36379    3545814            13.0             163.0      59.0     M        3.0   \n",
       "39367    9286288            21.0             254.0      62.5     M        3.0   \n",
       "40615    2243576            11.0             136.0      62.0     M        2.0   \n",
       "47090    5799151            21.0             254.0      56.0     M        3.0   \n",
       "49388    5735570            37.0             451.0      73.0     M        3.0   \n",
       "58723    3559689            29.0             352.0      73.5     M        4.0   \n",
       "63746    8339240             6.0              80.0      26.5     M        2.0   \n",
       "63781    8056743            13.0             160.0      63.0     M        3.0   \n",
       "68384    5939963            24.0             289.0      62.5     M        3.0   \n",
       "69666    7959723            21.0             261.0      56.5     M        3.0   \n",
       "\n",
       "               bal  calls_6_mnth  logons_6_mnth  \n",
       "2171    8247729.97           1.0            4.0  \n",
       "13318   8292996.21           6.0            9.0  \n",
       "14057   7741994.01           6.0            9.0  \n",
       "14425   5439354.90           3.0            6.0  \n",
       "20844   5187970.13           5.0            8.0  \n",
       "20871   8137343.24           6.0            9.0  \n",
       "21184   7339443.17           4.0            9.0  \n",
       "22943   6353000.43           5.0            8.0  \n",
       "23849   8986419.77           6.0            9.0  \n",
       "25162   5085307.11           6.0            9.0  \n",
       "31811   8045102.60           6.0            9.0  \n",
       "33222   6716305.28           6.0            9.0  \n",
       "36379   5754204.68           6.0            9.0  \n",
       "39367  16320040.15           6.0            9.0  \n",
       "40615   5544842.49           6.0            9.0  \n",
       "47090   5137641.69           6.0            9.0  \n",
       "49388   6000386.82           6.0            9.0  \n",
       "58723   6387060.94           5.0            5.0  \n",
       "63746  12838418.01           3.0            3.0  \n",
       "63781   5745578.16           7.0            7.0  \n",
       "68384   6628686.47           5.0            5.0  \n",
       "69666   6566425.13           7.0            7.0  "
      ]
     },
     "execution_count": 24,
     "metadata": {},
     "output_type": "execute_result"
    }
   ],
   "source": [
    "final_demo[final_demo['bal']>=5000000]"
   ]
  },
  {
   "cell_type": "code",
   "execution_count": 18,
   "metadata": {},
   "outputs": [
    {
     "data": {
      "text/plain": [
       "39367    16320040.15\n",
       "63746    12838418.01\n",
       "23849     8986419.77\n",
       "13318     8292996.21\n",
       "2171      8247729.97\n",
       "            ...     \n",
       "17238     3193269.83\n",
       "52995     3191837.41\n",
       "50340     3191769.31\n",
       "46786     3189564.50\n",
       "31300     3171343.45\n",
       "Name: bal, Length: 100, dtype: float64"
      ]
     },
     "execution_count": 18,
     "metadata": {},
     "output_type": "execute_result"
    }
   ],
   "source": [
    "final_demo['bal'].sort_values(ascending=False).head(100)"
   ]
  },
  {
   "cell_type": "markdown",
   "metadata": {},
   "source": [
    "# Question demographics\n",
    "\n",
    "- **primary clients**:\n",
    "    1. who is using this online process?\n",
    "    \n",
    "    It seems that all the client up to a certain degree are using the online process as all they all had login at least once in the last 6 months. \n",
    "    \n",
    "    2. arethe primary clients younger or older, new or long-standing?\n",
    "\n",
    "   The primary client is an individual, either a man or a woman, who holds more than two open accounts with a balance of $148K. They are between 21 and 70 years old and have maintained an account for a duration spanning 6 to 25 years.\n",
    "\n"
   ]
  },
  {
   "cell_type": "code",
   "execution_count": 73,
   "metadata": {},
   "outputs": [
    {
     "data": {
      "text/plain": [
       "2.2550842616395315"
      ]
     },
     "execution_count": 73,
     "metadata": {},
     "output_type": "execute_result"
    }
   ],
   "source": [
    "# account\n",
    "final_demo['num_accts'].mean()"
   ]
  },
  {
   "cell_type": "code",
   "execution_count": 74,
   "metadata": {},
   "outputs": [
    {
     "data": {
      "text/plain": [
       "148004.15420322763"
      ]
     },
     "execution_count": 74,
     "metadata": {},
     "output_type": "execute_result"
    }
   ],
   "source": [
    "final_demo['bal'].mean()"
   ]
  },
  {
   "cell_type": "code",
   "execution_count": 57,
   "metadata": {},
   "outputs": [
    {
     "data": {
      "text/plain": [
       "gendr\n",
       "U    34.0\n",
       "M    33.0\n",
       "F    32.0\n",
       "Name: proportion, dtype: float64"
      ]
     },
     "execution_count": 57,
     "metadata": {},
     "output_type": "execute_result"
    }
   ],
   "source": [
    "#gendr\n",
    "final_demo['gendr'].value_counts(normalize='index').round(2)*100"
   ]
  },
  {
   "cell_type": "markdown",
   "metadata": {},
   "source": [
    "It seems that there is an equal amount of female and men."
   ]
  },
  {
   "cell_type": "code",
   "execution_count": 64,
   "metadata": {},
   "outputs": [
    {
     "data": {
      "text/plain": [
       "clnt_age\n",
       "51-60    22.0\n",
       "41-50    18.0\n",
       "21-30    18.0\n",
       "31-40    18.0\n",
       "61-70    16.0\n",
       "71+       5.0\n",
       "0-20      2.0\n",
       "Name: proportion, dtype: float64"
      ]
     },
     "execution_count": 64,
     "metadata": {},
     "output_type": "execute_result"
    }
   ],
   "source": [
    "#age\n",
    "pd.cut(final_demo['clnt_age'],\n",
    "       bins=[0, 21, 31, 41, 51, 61, 71, float('inf')],\n",
    "       labels=['0-20', '21-30', '31-40', '41-50', '51-60', '61-70', '71+'],\n",
    "       right=False).value_counts(normalize='index').sort_values(ascending=False).round(2)*100"
   ]
  },
  {
   "cell_type": "code",
   "execution_count": 70,
   "metadata": {},
   "outputs": [
    {
     "data": {
      "text/plain": [
       "<Axes: xlabel='clnt_age', ylabel='Count'>"
      ]
     },
     "execution_count": 70,
     "metadata": {},
     "output_type": "execute_result"
    },
    {
     "data": {
      "image/png": "[encoded data removed]",
      "text/plain": [
       "<Figure size 640x480 with 1 Axes>"
      ]
     },
     "metadata": {},
     "output_type": "display_data"
    }
   ],
   "source": [
    "sns.histplot(data=final_demo['clnt_age'],bins=20,kde=True)"
   ]
  },
  {
   "cell_type": "markdown",
   "metadata": {},
   "source": [
    "primary age of the client is between 21 and 70 years old"
   ]
  },
  {
   "cell_type": "code",
   "execution_count": 71,
   "metadata": {},
   "outputs": [
    {
     "data": {
      "text/plain": [
       "clnt_tenure_yr\n",
       "6-10     38.0\n",
       "11-15    24.0\n",
       "16-20    16.0\n",
       "21-25    10.0\n",
       "3-5       7.0\n",
       "26+       5.0\n",
       "0-2       0.0\n",
       "Name: proportion, dtype: float64"
      ]
     },
     "execution_count": 71,
     "metadata": {},
     "output_type": "execute_result"
    }
   ],
   "source": [
    "# Oldness\n",
    "pd.cut(final_demo['clnt_tenure_yr'],\n",
    "       bins=[0,2,5,10,15,20,25, float('inf')],\n",
    "       labels=['0-2', '3-5', '6-10', '11-15', '16-20', '21-25', '26+'],\n",
    "       right=False).value_counts(normalize='index').sort_values(ascending=False).round(2)*100\n"
   ]
  },
  {
   "cell_type": "code",
   "execution_count": 72,
   "metadata": {},
   "outputs": [
    {
     "data": {
      "text/plain": [
       "<Axes: xlabel='clnt_tenure_yr', ylabel='Count'>"
      ]
     },
     "execution_count": 72,
     "metadata": {},
     "output_type": "execute_result"
    },
    {
     "data": {
      "image/png": "[encoded data removed]",
      "text/plain": [
       "<Figure size 640x480 with 1 Axes>"
      ]
     },
     "metadata": {},
     "output_type": "display_data"
    }
   ],
   "source": [
    "sns.histplot(data=final_demo['clnt_tenure_yr'],bins=20,kde=True)"
   ]
  },
  {
   "cell_type": "markdown",
   "metadata": {},
   "source": [
    "Primary the clients has a ternure between 6 and 25 years."
   ]
  }
 ],
 "metadata": {
  "kernelspec": {
   "display_name": "base",
   "language": "python",
   "name": "python3"
  },
  "language_info": {
   "codemirror_mode": {
    "name": "ipython",
    "version": 3
   },
   "file_extension": ".py",
   "mimetype": "text/x-python",
   "name": "python",
   "nbconvert_exporter": "python",
   "pygments_lexer": "ipython3",
   "version": "3.11.5"
  }
 },
 "nbformat": 4,
 "nbformat_minor": 2
}
