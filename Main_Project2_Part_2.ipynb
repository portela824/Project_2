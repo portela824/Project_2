{
 "cells": [
  {
   "cell_type": "markdown",
   "id": "b41d905f",
   "metadata": {},
   "source": [
    "## Libraries and Datasets"
   ]
  },
  {
   "cell_type": "code",
   "execution_count": 1,
   "id": "9c996980",
   "metadata": {
    "ExecuteTime": {
     "end_time": "2024-01-22T14:11:57.547773Z",
     "start_time": "2024-01-22T14:11:27.221747Z"
    }
   },
   "outputs": [],
   "source": [
    "# Importing libraries\n",
    "import pandas as pd\n",
    "import os\n",
    "import matplotlib.pyplot as plt\n",
    "import seaborn as sns\n",
    "import numpy as np \n",
    "import statistics\n",
    "import statsmodels.api as sm\n",
    "from statsmodels.stats.proportion import proportions_ztest\n",
    "from scipy.stats import ttest_ind\n",
    "from sqlalchemy import create_engine\n",
    "# from matplotlib.ticker import FuncFormatter\n",
    "# from matplotlib.ticker import ScalarFormatter"
   ]
  },
  {
   "cell_type": "code",
   "execution_count": 2,
   "id": "dcd23a2e",
   "metadata": {
    "ExecuteTime": {
     "end_time": "2024-01-22T14:12:16.662617Z",
     "start_time": "2024-01-22T14:12:14.395183Z"
    }
   },
   "outputs": [],
   "source": [
    "# Load datasets\n",
    "df_demo = pd.read_csv(\"../df_final_demo.txt\") # 70609 rows × 9 columns\n",
    "df_web_data_pt1 = pd.read_csv(\"../df_final_web_data_pt_1.txt\") # 343141 rows × 5 columns\n",
    "df_web_data_pt2 = pd.read_csv(\"../df_final_web_data_pt_2.txt\") # 412264 rows × 5 columns\n",
    "df_experiment = pd.read_csv(\"../df_final_experiment_clients.txt\") # 70609 rows × 2 columns\n",
    "\n",
    "# Merge web data files\n",
    "df_web_data = pd.concat([df_web_data_pt1, df_web_data_pt2])\n",
    "\n",
    "# Merge all data based on common identifiers\n",
    "df_merged = pd.merge(df_experiment, df_demo, on='client_id')\n",
    "df_merged = pd.merge(df_merged, df_web_data, on='client_id')"
   ]
  },
  {
   "cell_type": "code",
   "execution_count": 3,
   "id": "d0e7499a",
   "metadata": {
    "ExecuteTime": {
     "end_time": "2024-01-22T01:48:51.828663Z",
     "start_time": "2024-01-22T01:48:51.606566Z"
    }
   },
   "outputs": [
    {
     "data": {
      "text/html": [
       "<div>\n",
       "<style scoped>\n",
       "    .dataframe tbody tr th:only-of-type {\n",
       "        vertical-align: middle;\n",
       "    }\n",
       "\n",
       "    .dataframe tbody tr th {\n",
       "        vertical-align: top;\n",
       "    }\n",
       "\n",
       "    .dataframe thead th {\n",
       "        text-align: right;\n",
       "    }\n",
       "</style>\n",
       "<table border=\"1\" class=\"dataframe\">\n",
       "  <thead>\n",
       "    <tr style=\"text-align: right;\">\n",
       "      <th></th>\n",
       "      <th>client_id</th>\n",
       "      <th>Variation</th>\n",
       "      <th>clnt_tenure_yr</th>\n",
       "      <th>clnt_tenure_mnth</th>\n",
       "      <th>clnt_age</th>\n",
       "      <th>gendr</th>\n",
       "      <th>num_accts</th>\n",
       "      <th>bal</th>\n",
       "      <th>calls_6_mnth</th>\n",
       "      <th>logons_6_mnth</th>\n",
       "      <th>visitor_id</th>\n",
       "      <th>visit_id</th>\n",
       "      <th>process_step</th>\n",
       "      <th>date_time</th>\n",
       "    </tr>\n",
       "  </thead>\n",
       "  <tbody>\n",
       "    <tr>\n",
       "      <th>0</th>\n",
       "      <td>9988021</td>\n",
       "      <td>Test</td>\n",
       "      <td>5.0</td>\n",
       "      <td>64.0</td>\n",
       "      <td>79.0</td>\n",
       "      <td>U</td>\n",
       "      <td>2.0</td>\n",
       "      <td>189023.86</td>\n",
       "      <td>1.0</td>\n",
       "      <td>4.0</td>\n",
       "      <td>580560515_7732621733</td>\n",
       "      <td>781255054_21935453173_531117</td>\n",
       "      <td>step_3</td>\n",
       "      <td>2017-04-17 15:27:07</td>\n",
       "    </tr>\n",
       "    <tr>\n",
       "      <th>1</th>\n",
       "      <td>9988021</td>\n",
       "      <td>Test</td>\n",
       "      <td>5.0</td>\n",
       "      <td>64.0</td>\n",
       "      <td>79.0</td>\n",
       "      <td>U</td>\n",
       "      <td>2.0</td>\n",
       "      <td>189023.86</td>\n",
       "      <td>1.0</td>\n",
       "      <td>4.0</td>\n",
       "      <td>580560515_7732621733</td>\n",
       "      <td>781255054_21935453173_531117</td>\n",
       "      <td>step_2</td>\n",
       "      <td>2017-04-17 15:26:51</td>\n",
       "    </tr>\n",
       "    <tr>\n",
       "      <th>2</th>\n",
       "      <td>9988021</td>\n",
       "      <td>Test</td>\n",
       "      <td>5.0</td>\n",
       "      <td>64.0</td>\n",
       "      <td>79.0</td>\n",
       "      <td>U</td>\n",
       "      <td>2.0</td>\n",
       "      <td>189023.86</td>\n",
       "      <td>1.0</td>\n",
       "      <td>4.0</td>\n",
       "      <td>580560515_7732621733</td>\n",
       "      <td>781255054_21935453173_531117</td>\n",
       "      <td>step_3</td>\n",
       "      <td>2017-04-17 15:19:22</td>\n",
       "    </tr>\n",
       "    <tr>\n",
       "      <th>3</th>\n",
       "      <td>9988021</td>\n",
       "      <td>Test</td>\n",
       "      <td>5.0</td>\n",
       "      <td>64.0</td>\n",
       "      <td>79.0</td>\n",
       "      <td>U</td>\n",
       "      <td>2.0</td>\n",
       "      <td>189023.86</td>\n",
       "      <td>1.0</td>\n",
       "      <td>4.0</td>\n",
       "      <td>580560515_7732621733</td>\n",
       "      <td>781255054_21935453173_531117</td>\n",
       "      <td>step_2</td>\n",
       "      <td>2017-04-17 15:19:13</td>\n",
       "    </tr>\n",
       "    <tr>\n",
       "      <th>4</th>\n",
       "      <td>9988021</td>\n",
       "      <td>Test</td>\n",
       "      <td>5.0</td>\n",
       "      <td>64.0</td>\n",
       "      <td>79.0</td>\n",
       "      <td>U</td>\n",
       "      <td>2.0</td>\n",
       "      <td>189023.86</td>\n",
       "      <td>1.0</td>\n",
       "      <td>4.0</td>\n",
       "      <td>580560515_7732621733</td>\n",
       "      <td>781255054_21935453173_531117</td>\n",
       "      <td>step_3</td>\n",
       "      <td>2017-04-17 15:18:04</td>\n",
       "    </tr>\n",
       "    <tr>\n",
       "      <th>...</th>\n",
       "      <td>...</td>\n",
       "      <td>...</td>\n",
       "      <td>...</td>\n",
       "      <td>...</td>\n",
       "      <td>...</td>\n",
       "      <td>...</td>\n",
       "      <td>...</td>\n",
       "      <td>...</td>\n",
       "      <td>...</td>\n",
       "      <td>...</td>\n",
       "      <td>...</td>\n",
       "      <td>...</td>\n",
       "      <td>...</td>\n",
       "      <td>...</td>\n",
       "    </tr>\n",
       "    <tr>\n",
       "      <th>449826</th>\n",
       "      <td>9895983</td>\n",
       "      <td>NaN</td>\n",
       "      <td>10.0</td>\n",
       "      <td>121.0</td>\n",
       "      <td>49.0</td>\n",
       "      <td>M</td>\n",
       "      <td>2.0</td>\n",
       "      <td>97748.22</td>\n",
       "      <td>2.0</td>\n",
       "      <td>2.0</td>\n",
       "      <td>473024645_56027518531</td>\n",
       "      <td>498981662_93503779869_272484</td>\n",
       "      <td>step_3</td>\n",
       "      <td>2017-06-15 19:52:09</td>\n",
       "    </tr>\n",
       "    <tr>\n",
       "      <th>449827</th>\n",
       "      <td>9895983</td>\n",
       "      <td>NaN</td>\n",
       "      <td>10.0</td>\n",
       "      <td>121.0</td>\n",
       "      <td>49.0</td>\n",
       "      <td>M</td>\n",
       "      <td>2.0</td>\n",
       "      <td>97748.22</td>\n",
       "      <td>2.0</td>\n",
       "      <td>2.0</td>\n",
       "      <td>473024645_56027518531</td>\n",
       "      <td>498981662_93503779869_272484</td>\n",
       "      <td>step_2</td>\n",
       "      <td>2017-06-15 19:50:37</td>\n",
       "    </tr>\n",
       "    <tr>\n",
       "      <th>449828</th>\n",
       "      <td>9895983</td>\n",
       "      <td>NaN</td>\n",
       "      <td>10.0</td>\n",
       "      <td>121.0</td>\n",
       "      <td>49.0</td>\n",
       "      <td>M</td>\n",
       "      <td>2.0</td>\n",
       "      <td>97748.22</td>\n",
       "      <td>2.0</td>\n",
       "      <td>2.0</td>\n",
       "      <td>473024645_56027518531</td>\n",
       "      <td>498981662_93503779869_272484</td>\n",
       "      <td>step_1</td>\n",
       "      <td>2017-06-15 19:50:05</td>\n",
       "    </tr>\n",
       "    <tr>\n",
       "      <th>449829</th>\n",
       "      <td>9895983</td>\n",
       "      <td>NaN</td>\n",
       "      <td>10.0</td>\n",
       "      <td>121.0</td>\n",
       "      <td>49.0</td>\n",
       "      <td>M</td>\n",
       "      <td>2.0</td>\n",
       "      <td>97748.22</td>\n",
       "      <td>2.0</td>\n",
       "      <td>2.0</td>\n",
       "      <td>473024645_56027518531</td>\n",
       "      <td>498981662_93503779869_272484</td>\n",
       "      <td>start</td>\n",
       "      <td>2017-06-15 19:50:00</td>\n",
       "    </tr>\n",
       "    <tr>\n",
       "      <th>449830</th>\n",
       "      <td>9895983</td>\n",
       "      <td>NaN</td>\n",
       "      <td>10.0</td>\n",
       "      <td>121.0</td>\n",
       "      <td>49.0</td>\n",
       "      <td>M</td>\n",
       "      <td>2.0</td>\n",
       "      <td>97748.22</td>\n",
       "      <td>2.0</td>\n",
       "      <td>2.0</td>\n",
       "      <td>473024645_56027518531</td>\n",
       "      <td>498981662_93503779869_272484</td>\n",
       "      <td>start</td>\n",
       "      <td>2017-06-15 19:44:05</td>\n",
       "    </tr>\n",
       "  </tbody>\n",
       "</table>\n",
       "<p>449831 rows × 14 columns</p>\n",
       "</div>"
      ],
      "text/plain": [
       "        client_id Variation  clnt_tenure_yr  clnt_tenure_mnth  clnt_age gendr  \\\n",
       "0         9988021      Test             5.0              64.0      79.0     U   \n",
       "1         9988021      Test             5.0              64.0      79.0     U   \n",
       "2         9988021      Test             5.0              64.0      79.0     U   \n",
       "3         9988021      Test             5.0              64.0      79.0     U   \n",
       "4         9988021      Test             5.0              64.0      79.0     U   \n",
       "...           ...       ...             ...               ...       ...   ...   \n",
       "449826    9895983       NaN            10.0             121.0      49.0     M   \n",
       "449827    9895983       NaN            10.0             121.0      49.0     M   \n",
       "449828    9895983       NaN            10.0             121.0      49.0     M   \n",
       "449829    9895983       NaN            10.0             121.0      49.0     M   \n",
       "449830    9895983       NaN            10.0             121.0      49.0     M   \n",
       "\n",
       "        num_accts        bal  calls_6_mnth  logons_6_mnth  \\\n",
       "0             2.0  189023.86           1.0            4.0   \n",
       "1             2.0  189023.86           1.0            4.0   \n",
       "2             2.0  189023.86           1.0            4.0   \n",
       "3             2.0  189023.86           1.0            4.0   \n",
       "4             2.0  189023.86           1.0            4.0   \n",
       "...           ...        ...           ...            ...   \n",
       "449826        2.0   97748.22           2.0            2.0   \n",
       "449827        2.0   97748.22           2.0            2.0   \n",
       "449828        2.0   97748.22           2.0            2.0   \n",
       "449829        2.0   97748.22           2.0            2.0   \n",
       "449830        2.0   97748.22           2.0            2.0   \n",
       "\n",
       "                   visitor_id                      visit_id process_step  \\\n",
       "0        580560515_7732621733  781255054_21935453173_531117       step_3   \n",
       "1        580560515_7732621733  781255054_21935453173_531117       step_2   \n",
       "2        580560515_7732621733  781255054_21935453173_531117       step_3   \n",
       "3        580560515_7732621733  781255054_21935453173_531117       step_2   \n",
       "4        580560515_7732621733  781255054_21935453173_531117       step_3   \n",
       "...                       ...                           ...          ...   \n",
       "449826  473024645_56027518531  498981662_93503779869_272484       step_3   \n",
       "449827  473024645_56027518531  498981662_93503779869_272484       step_2   \n",
       "449828  473024645_56027518531  498981662_93503779869_272484       step_1   \n",
       "449829  473024645_56027518531  498981662_93503779869_272484        start   \n",
       "449830  473024645_56027518531  498981662_93503779869_272484        start   \n",
       "\n",
       "                  date_time  \n",
       "0       2017-04-17 15:27:07  \n",
       "1       2017-04-17 15:26:51  \n",
       "2       2017-04-17 15:19:22  \n",
       "3       2017-04-17 15:19:13  \n",
       "4       2017-04-17 15:18:04  \n",
       "...                     ...  \n",
       "449826  2017-06-15 19:52:09  \n",
       "449827  2017-06-15 19:50:37  \n",
       "449828  2017-06-15 19:50:05  \n",
       "449829  2017-06-15 19:50:00  \n",
       "449830  2017-06-15 19:44:05  \n",
       "\n",
       "[449831 rows x 14 columns]"
      ]
     },
     "execution_count": 3,
     "metadata": {},
     "output_type": "execute_result"
    }
   ],
   "source": [
    "df_merged"
   ]
  },
  {
   "cell_type": "markdown",
   "id": "e0866ed4",
   "metadata": {},
   "source": [
    "Metadata:\n",
    "\n",
    "\n",
    "client_id: Every client’s unique ID.\n",
    "\n",
    "variation: Indicates if a client was part of the experiment.\n",
    "\n",
    "visitor_id: A unique ID for each client-device combination.\n",
    "\n",
    "visit_id: A unique ID for each web visit/session.\n",
    "\n",
    "process_step: Marks each step in the digital process.\n",
    "\n",
    "date_time: Timestamp of each web activity.\n",
    "\n",
    "clnt_tenure_yr: Represents how long the client has been \n",
    "                with Vanguard, measured in years.\n",
    "\n",
    "clnt_tenure_mnth: Further breaks down the client’s tenure \n",
    "                  with Vanguard in months.\n",
    "clnt_age: Indicates the age of the client.\n",
    "\n",
    "gendr: Specifies the client’s gender.\n",
    "\n",
    "num_accts: Denotes the number of accounts the client holds \n",
    "           with Vanguard.\n",
    "\n",
    "bal: Gives the total balance spread across all accounts \n",
    "     for a particular client.\n",
    "\n",
    "calls_6_mnth: Records the number of times the client reached \n",
    "              out over a call in the past six months.\n",
    "\n",
    "logons_6_mnth: Reflects the frequency with which the client logged\n",
    "               onto Vanguard’s platform over the last six months.\n"
   ]
  },
  {
   "cell_type": "markdown",
   "id": "aa232b0e",
   "metadata": {},
   "source": [
    "## Performance Metrics"
   ]
  },
  {
   "cell_type": "code",
   "execution_count": 3,
   "id": "896be8cb",
   "metadata": {
    "ExecuteTime": {
     "end_time": "2024-01-22T14:12:21.674428Z",
     "start_time": "2024-01-22T14:12:21.292155Z"
    }
   },
   "outputs": [
    {
     "name": "stdout",
     "output_type": "stream",
     "text": [
      "Missing Values in Sorting Columns:\n",
      "client_id       0\n",
      "visitor_id      0\n",
      "visit_id        0\n",
      "date_time       0\n",
      "process_step    0\n",
      "dtype: int64\n"
     ]
    }
   ],
   "source": [
    "# Columns used for the sorting\n",
    "sorting_columns = ['client_id', 'visitor_id', 'visit_id', 'date_time', 'process_step']\n",
    "\n",
    "# Checking for the missing values in the sorting columns\n",
    "missing_values_sorting = df_merged[sorting_columns].isnull().sum()\n",
    "\n",
    "# Printing the missing values for the sorting columns\n",
    "print(\"Missing Values in Sorting Columns:\")\n",
    "print(missing_values_sorting)\n"
   ]
  },
  {
   "cell_type": "code",
   "execution_count": 66,
   "id": "1f638dda",
   "metadata": {
    "ExecuteTime": {
     "end_time": "2024-01-18T20:35:28.831728Z",
     "start_time": "2024-01-18T20:35:28.823748Z"
    }
   },
   "outputs": [],
   "source": [
    "#df_merged['date_time']"
   ]
  },
  {
   "cell_type": "code",
   "execution_count": 4,
   "id": "680c7bfc",
   "metadata": {
    "ExecuteTime": {
     "end_time": "2024-01-22T14:13:40.971863Z",
     "start_time": "2024-01-22T14:12:25.931590Z"
    }
   },
   "outputs": [
    {
     "name": "stdout",
     "output_type": "stream",
     "text": [
      "Completion Rate:\n",
      "Variation\n",
      "Control    0.655873\n",
      "Test       0.692932\n",
      "Name: client_id, dtype: float64\n",
      "\n",
      "Time Spent on Each Step:\n",
      "process_step     confirm       start      step_1      step_2      step_3\n",
      "Variation                                                               \n",
      "Control       143.091743  193.204193  277.011691  210.453541  191.862921\n",
      "Test          242.165607  202.762718  273.691548  260.859810  319.593647\n",
      "\n",
      "Error Rates:\n",
      "Variation\n",
      "Control   NaN\n",
      "Test      NaN\n",
      "Name: client_id, dtype: float64\n"
     ]
    }
   ],
   "source": [
    "# Converting 'date_time' to datetime format\n",
    "df_merged['date_time'] = pd.to_datetime(df_merged['date_time'])\n",
    "\n",
    "# Sorting by client_id, visitor_id, visit_id, and date_time\n",
    "df_merged = df_merged.sort_values(['client_id', 'visitor_id', 'visit_id', 'date_time'])\n",
    "\n",
    "# Duration for each step\n",
    "df_merged['duration'] = df_merged.groupby(['client_id', 'visitor_id', 'visit_id', 'process_step'])['date_time'].diff().dt.total_seconds()\n",
    "\n",
    "# Analyzing completion rate\n",
    "completion_rate = df_merged[df_merged['process_step'] == 'confirm'].groupby('Variation')['client_id'].nunique() / df_merged.groupby('Variation')['client_id'].nunique()\n",
    "print(\"Completion Rate:\")\n",
    "print(completion_rate)\n",
    "\n",
    "# Analyzing time spent on each step\n",
    "time_spent_per_step = df_merged.groupby(['Variation', 'process_step'])['duration'].mean().unstack()\n",
    "print(\"\\nTime Spent on Each Step:\")\n",
    "print(time_spent_per_step)\n",
    "\n",
    "# Analyzing error rates\n",
    "error_rates = df_merged[df_merged['process_step'] == 'error'].groupby('Variation')['client_id'].nunique() / df_merged.groupby('Variation')['client_id'].nunique()\n",
    "print(\"\\nError Rates:\")\n",
    "print(error_rates)\n",
    "\n"
   ]
  },
  {
   "cell_type": "code",
   "execution_count": 21,
   "id": "3ea30f80",
   "metadata": {
    "ExecuteTime": {
     "end_time": "2024-01-22T14:57:17.744153Z",
     "start_time": "2024-01-22T14:57:17.488834Z"
    }
   },
   "outputs": [
    {
     "data": {
      "image/png": "[encoded data removed]",
      "text/plain": [
       "<Figure size 1000x400 with 1 Axes>"
      ]
     },
     "metadata": {},
     "output_type": "display_data"
    }
   ],
   "source": [
    "import matplotlib.pyplot as plt\n",
    "\n",
    "# Plotting Completion Rate as Horizontal Bar Plot with Percentage Labels\n",
    "plt.figure(figsize=(10, 4))\n",
    "ax = completion_rate.plot(kind='barh', color=['skyblue', 'lightcoral'])\n",
    "plt.title('Completion Rate by Variation')\n",
    "plt.xlabel('Completion Rate')\n",
    "plt.ylabel('Variation')\n",
    "plt.grid(axis='x', linestyle='--', alpha=0.6)\n",
    "\n",
    "plt.show()\n"
   ]
  },
  {
   "cell_type": "markdown",
   "id": "6ec6b7d8",
   "metadata": {},
   "source": [
    "## Hypothesis Testing"
   ]
  },
  {
   "cell_type": "code",
   "execution_count": null,
   "id": "711fe21b",
   "metadata": {
    "ExecuteTime": {
     "end_time": "2024-01-22T14:13:41.039682Z",
     "start_time": "2024-01-22T14:13:41.039682Z"
    }
   },
   "outputs": [],
   "source": [
    "# By the previous part we know that the variable 'process_step' has no missing values\n",
    "# We will do it again but only for the Control and Test variations \n",
    "\n",
    "# Missing values for 'process_step' variable in Control and Test variations \n",
    "print(\"Missing values in Control variation:\")\n",
    "print(df_merged[df_merged['Variation'] == 'Control']['process_step'].isnull().sum())\n",
    "\n",
    "print(\"Missing values in Test variation:\")\n",
    "print(df_merged[df_merged['Variation'] == 'Test']['process_step'].isnull().sum())\n"
   ]
  },
  {
   "cell_type": "code",
   "execution_count": 5,
   "id": "0c60e863",
   "metadata": {
    "ExecuteTime": {
     "end_time": "2024-01-22T14:13:50.852722Z",
     "start_time": "2024-01-22T14:13:50.467046Z"
    }
   },
   "outputs": [
    {
     "name": "stdout",
     "output_type": "stream",
     "text": [
      "Completion Rate Hypothesis Testing:\n",
      "Control Completion Rate: 0.12201837420362187\n",
      "Test Completion Rate: 0.1446299347191687\n",
      "Z-statistic: -18.67324116863663\n",
      "P-value: 8.173840595991908e-78\n",
      "\n",
      "Reject the null hypothesis. There is a significant difference in completion rates.\n"
     ]
    }
   ],
   "source": [
    "# Completion Rate\n",
    "control_completion_rate = df_merged[df_merged['Variation'] == 'Control']['process_step'].eq('confirm').mean()\n",
    "test_completion_rate = df_merged[df_merged['Variation'] == 'Test']['process_step'].eq('confirm').mean()\n",
    "\n",
    "# Standard error of the difference\n",
    "std_error_diff = ((control_completion_rate * (1 - control_completion_rate)) / len(df_merged[df_merged['Variation'] == 'Control'])) + \\\n",
    "                 ((test_completion_rate * (1 - test_completion_rate)) / len(df_merged[df_merged['Variation'] == 'Test']))\n",
    "std_error_diff = std_error_diff ** 0.5\n",
    "\n",
    "# Two-sample proportions z-test\n",
    "z_stat, p_value = proportions_ztest([control_completion_rate * len(df_merged[df_merged['Variation'] == 'Control']),\n",
    "                                     test_completion_rate * len(df_merged[df_merged['Variation'] == 'Test'])],\n",
    "                                    [len(df_merged[df_merged['Variation'] == 'Control']),\n",
    "                                     len(df_merged[df_merged['Variation'] == 'Test'])])\n",
    "\n",
    "# Results\n",
    "print(\"Completion Rate Hypothesis Testing:\")\n",
    "print(f\"Control Completion Rate: {control_completion_rate}\")\n",
    "print(f\"Test Completion Rate: {test_completion_rate}\")\n",
    "print(f\"Z-statistic: {z_stat}\")\n",
    "print(f\"P-value: {p_value}\")\n",
    "print(\"\")\n",
    "if p_value < 0.05:\n",
    "    print(\"Reject the null hypothesis. There is a significant difference in completion rates.\")\n",
    "else:\n",
    "    print(\"Fail to reject the null hypothesis. There is no significant difference in completion rates.\")\n"
   ]
  },
  {
   "cell_type": "code",
   "execution_count": 6,
   "id": "03471ffc",
   "metadata": {
    "ExecuteTime": {
     "end_time": "2024-01-22T14:13:56.745887Z",
     "start_time": "2024-01-22T14:13:56.724982Z"
    }
   },
   "outputs": [
    {
     "name": "stdout",
     "output_type": "stream",
     "text": [
      "\n",
      "Completion Rate with Cost-Effectiveness Threshold Analysis:\n",
      "Observed Completion Rate Increase: 0.022611560515546844\n",
      "Z-statistic: -123.56432809551994\n",
      "P-value: 1.0\n",
      "\n",
      "Fail to reject the null hypothesis. The observed increase does not meet the 5.0% threshold.\n"
     ]
    }
   ],
   "source": [
    "# Completion Rate with Cost-Effectiveness Threshold Analysis\n",
    "threshold = 0.05  # 5%\n",
    "observed_completion_rate_increase = test_completion_rate - control_completion_rate\n",
    "\n",
    "# One-sample proportions z-test\n",
    "z_stat_threshold, p_value_threshold = sm.stats.proportions_ztest(observed_completion_rate_increase * len(df_merged),\n",
    "                                                                 len(df_merged),\n",
    "                                                                 value=threshold,\n",
    "                                                                 alternative='larger')\n",
    "\n",
    "# Results\n",
    "print(\"\\nCompletion Rate with Cost-Effectiveness Threshold Analysis:\")\n",
    "print(f\"Observed Completion Rate Increase: {observed_completion_rate_increase}\")\n",
    "print(f\"Z-statistic: {z_stat_threshold}\")\n",
    "print(f\"P-value: {p_value_threshold}\")\n",
    "print(\"\")\n",
    "if p_value_threshold < 0.05:\n",
    "    print(f\"Reject the null hypothesis. The observed increase meets or exceeds the {threshold * 100}% threshold.\")\n",
    "else:\n",
    "    print(f\"Fail to reject the null hypothesis. The observed increase does not meet the {threshold * 100}% threshold.\")\n"
   ]
  },
  {
   "cell_type": "code",
   "execution_count": 10,
   "id": "f5c713ab",
   "metadata": {
    "ExecuteTime": {
     "end_time": "2024-01-22T01:52:43.291327Z",
     "start_time": "2024-01-22T01:52:43.198396Z"
    }
   },
   "outputs": [
    {
     "name": "stdout",
     "output_type": "stream",
     "text": [
      "Missing values in Control variation:\n",
      "54\n",
      "Missing values in Test variation:\n",
      "60\n"
     ]
    }
   ],
   "source": [
    "# Missing values for 'clnt_age' variable\n",
    "print(\"Missing values in Control variation:\")\n",
    "print(df_merged[df_merged['Variation'] == 'Control']['clnt_age'].isnull().sum())\n",
    "\n",
    "print(\"Missing values in Test variation:\")\n",
    "print(df_merged[df_merged['Variation'] == 'Test']['clnt_age'].isnull().sum())\n"
   ]
  },
  {
   "cell_type": "code",
   "execution_count": 7,
   "id": "61064b5a",
   "metadata": {
    "ExecuteTime": {
     "end_time": "2024-01-22T14:14:04.867373Z",
     "start_time": "2024-01-22T14:14:04.702789Z"
    }
   },
   "outputs": [
    {
     "name": "stdout",
     "output_type": "stream",
     "text": [
      "\n",
      "Average Age of Clients Hypothesis Testing:\n",
      "Average Age (Control): 48.30989554278701\n",
      "Average Age (Test): 48.75001828030171\n",
      "T-statistic: -7.926400435419626\n",
      "P-value: 2.263054043650787e-15\n",
      "\n",
      "Reject the null hypothesis. There is a significant difference in average age.\n"
     ]
    }
   ],
   "source": [
    "# Average Age of Clients and filtering non-NaN values for the Hypothesis Testing\n",
    "control_age = df_merged[df_merged['Variation'] == 'Control']['clnt_age'].dropna()\n",
    "test_age = df_merged[df_merged['Variation'] == 'Test']['clnt_age'].dropna()\n",
    "\n",
    "\n",
    "# Two-sample t-test\n",
    "t_stat, p_value_age = ttest_ind(control_age, test_age, equal_var=True)\n",
    "\n",
    "# Results\n",
    "print(\"\\nAverage Age of Clients Hypothesis Testing:\")\n",
    "print(f\"Average Age (Control): {control_age.mean()}\")\n",
    "print(f\"Average Age (Test): {test_age.mean()}\")\n",
    "print(f\"T-statistic: {t_stat}\")\n",
    "print(f\"P-value: {p_value_age}\")\n",
    "print(\"\")\n",
    "if p_value_age < 0.05:\n",
    "    print(\"Reject the null hypothesis. There is a significant difference in average age.\")\n",
    "else:\n",
    "    print(\"Fail to reject the null hypothesis. There is no significant difference in average age.\")\n"
   ]
  },
  {
   "cell_type": "code",
   "execution_count": 12,
   "id": "3865caed",
   "metadata": {
    "ExecuteTime": {
     "end_time": "2024-01-22T01:52:49.879653Z",
     "start_time": "2024-01-22T01:52:49.771777Z"
    }
   },
   "outputs": [
    {
     "data": {
      "text/plain": [
       "(48.22903052977982, 48.3907605557942)"
      ]
     },
     "execution_count": 12,
     "metadata": {},
     "output_type": "execute_result"
    }
   ],
   "source": [
    "from scipy import stats\n",
    "standard_error = stats.sem(control_age, axis=0, nan_policy='omit')\n",
    "standard_error\n",
    "\n",
    "stats.t.interval(0.95,df= len(control_age) - 1,scale = standard_error,loc=control_age.mean())"
   ]
  },
  {
   "cell_type": "code",
   "execution_count": 17,
   "id": "f0cb3c74",
   "metadata": {
    "ExecuteTime": {
     "end_time": "2024-01-22T14:30:33.728815Z",
     "start_time": "2024-01-22T14:30:32.121854Z"
    }
   },
   "outputs": [
    {
     "name": "stderr",
     "output_type": "stream",
     "text": [
      "C:\\Users\\user\\AppData\\Local\\Temp\\ipykernel_7652\\2722961259.py:1: UserWarning: \n",
      "\n",
      "`distplot` is a deprecated function and will be removed in seaborn v0.14.0.\n",
      "\n",
      "Please adapt your code to use either `displot` (a figure-level function with\n",
      "similar flexibility) or `histplot` (an axes-level function for histograms).\n",
      "\n",
      "For a guide to updating your code to use the new functions, please see\n",
      "https://gist.github.com/mwaskom/de44147ed2974457ad6372750bbe5751\n",
      "\n",
      "  sns.distplot(control_age,label='Control Group')\n",
      "C:\\Users\\user\\AppData\\Local\\Temp\\ipykernel_7652\\2722961259.py:2: UserWarning: \n",
      "\n",
      "`distplot` is a deprecated function and will be removed in seaborn v0.14.0.\n",
      "\n",
      "Please adapt your code to use either `displot` (a figure-level function with\n",
      "similar flexibility) or `histplot` (an axes-level function for histograms).\n",
      "\n",
      "For a guide to updating your code to use the new functions, please see\n",
      "https://gist.github.com/mwaskom/de44147ed2974457ad6372750bbe5751\n",
      "\n",
      "  sns.distplot(test_age,label='Test Group')\n"
     ]
    },
    {
     "data": {
      "image/png": "[encoded data removed]",
      "text/plain": [
       "<Figure size 640x480 with 1 Axes>"
      ]
     },
     "metadata": {},
     "output_type": "display_data"
    }
   ],
   "source": [
    "sns.distplot(control_age,label='Control Group')\n",
    "sns.distplot(test_age,label='Test Group')\n",
    "plt.title('Average Age Distribution')\n",
    "plt.xlabel('Client Age')\n",
    "plt.legend()\n",
    "plt.show()"
   ]
  }
 ],
 "metadata": {
  "kernelspec": {
   "display_name": "Python 3 (ipykernel)",
   "language": "python",
   "name": "python3"
  },
  "language_info": {
   "codemirror_mode": {
    "name": "ipython",
    "version": 3
   },
   "file_extension": ".py",
   "mimetype": "text/x-python",
   "name": "python",
   "nbconvert_exporter": "python",
   "pygments_lexer": "ipython3",
   "version": "3.9.18"
  },
  "toc": {
   "base_numbering": 1,
   "nav_menu": {},
   "number_sections": true,
   "sideBar": true,
   "skip_h1_title": false,
   "title_cell": "Table of Contents",
   "title_sidebar": "Contents",
   "toc_cell": false,
   "toc_position": {},
   "toc_section_display": true,
   "toc_window_display": false
  },
  "varInspector": {
   "cols": {
    "lenName": 16,
    "lenType": 16,
    "lenVar": 40
   },
   "kernels_config": {
    "python": {
     "delete_cmd_postfix": "",
     "delete_cmd_prefix": "del ",
     "library": "var_list.py",
     "varRefreshCmd": "print(var_dic_list())"
    },
    "r": {
     "delete_cmd_postfix": ") ",
     "delete_cmd_prefix": "rm(",
     "library": "var_list.r",
     "varRefreshCmd": "cat(var_dic_list()) "
    }
   },
   "types_to_exclude": [
    "module",
    "function",
    "builtin_function_or_method",
    "instance",
    "_Feature"
   ],
   "window_display": false
  }
 },
 "nbformat": 4,
 "nbformat_minor": 5
}
